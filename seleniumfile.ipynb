{
 "cells": [
  {
   "cell_type": "code",
   "execution_count": 10,
   "metadata": {},
   "outputs": [],
   "source": [
    "from selenium import webdriver\n",
    "from selenium.webdriver.common.by import By\n",
    "\n",
    "class infow():\n",
    "    def __init__(self):\n",
    "        # Set Chrome WebDriver executable path using options\n",
    "        chrome_options = webdriver.ChromeOptions()\n",
    "        chrome_options.binary_location = \"C:/Program Files/Google/Chrome/Application/chrome.exe\"  # Adjust path as per your Chrome installation\n",
    "        \n",
    "        self.driver = webdriver.Chrome(options=chrome_options)\n",
    "    \n",
    "    def get_info(self, query):\n",
    "        self.query = query\n",
    "        self.driver.get(url=\"https://www.wikipedia.org/\")\n",
    "        \n",
    "        # Find the search input field by XPath\n",
    "        search_input = self.driver.find_element(By.XPATH, '//*[@id=\"searchInput\"]')\n",
    "        search_input.click()\n",
    "        search_input.send_keys(query)\n",
    "        \n",
    "        # Find the search button and click on it\n",
    "        search_button = self.driver.find_element(By.XPATH, '//*[@id=\"search-form\"]/fieldset/button')\n",
    "        search_button.click()\n",
    "\n",
    "\n",
    "\n",
    "\n",
    "\n",
    "\n",
    "        "
   ]
  }
 ],
 "metadata": {
  "kernelspec": {
   "display_name": "base",
   "language": "python",
   "name": "python3"
  },
  "language_info": {
   "codemirror_mode": {
    "name": "ipython",
    "version": 3
   },
   "file_extension": ".py",
   "mimetype": "text/x-python",
   "name": "python",
   "nbconvert_exporter": "python",
   "pygments_lexer": "ipython3",
   "version": "3.11.5"
  }
 },
 "nbformat": 4,
 "nbformat_minor": 2
}
